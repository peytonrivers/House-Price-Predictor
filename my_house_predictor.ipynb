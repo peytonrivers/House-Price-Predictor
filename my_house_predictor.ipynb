{
 "cells": [
  {
   "cell_type": "markdown",
   "id": "ed921097-f1a1-4d69-b8e0-ae5d05ec370c",
   "metadata": {},
   "source": [
    "# Building Linear Regression Model to predict housing prices"
   ]
  },
  {
   "cell_type": "code",
   "execution_count": 195,
   "id": "cfd4e059-aa96-4083-be6d-bda47b95076a",
   "metadata": {
    "editable": true,
    "slideshow": {
     "slide_type": ""
    },
    "tags": []
   },
   "outputs": [],
   "source": [
    "# importing the necessary libraries\n",
    "import pandas as pd\n",
    "import numpy as np\n",
    "import matplotlib.pyplot as plt\n",
    "import seaborn as sns"
   ]
  },
  {
   "cell_type": "code",
   "execution_count": 196,
   "id": "98a777f0-c2cf-405b-8cfc-aa121517a904",
   "metadata": {
    "editable": true,
    "slideshow": {
     "slide_type": ""
    },
    "tags": []
   },
   "outputs": [
    {
     "data": {
      "text/html": [
       "<div>\n",
       "<style scoped>\n",
       "    .dataframe tbody tr th:only-of-type {\n",
       "        vertical-align: middle;\n",
       "    }\n",
       "\n",
       "    .dataframe tbody tr th {\n",
       "        vertical-align: top;\n",
       "    }\n",
       "\n",
       "    .dataframe thead th {\n",
       "        text-align: right;\n",
       "    }\n",
       "</style>\n",
       "<table border=\"1\" class=\"dataframe\">\n",
       "  <thead>\n",
       "    <tr style=\"text-align: right;\">\n",
       "      <th></th>\n",
       "      <th>SquareFeet</th>\n",
       "      <th>Bedrooms</th>\n",
       "      <th>Bathrooms</th>\n",
       "      <th>Neighborhood</th>\n",
       "      <th>YearBuilt</th>\n",
       "      <th>Price</th>\n",
       "    </tr>\n",
       "  </thead>\n",
       "  <tbody>\n",
       "    <tr>\n",
       "      <th>0</th>\n",
       "      <td>2126</td>\n",
       "      <td>4</td>\n",
       "      <td>1</td>\n",
       "      <td>Rural</td>\n",
       "      <td>1969</td>\n",
       "      <td>215355.283618</td>\n",
       "    </tr>\n",
       "    <tr>\n",
       "      <th>1</th>\n",
       "      <td>2459</td>\n",
       "      <td>3</td>\n",
       "      <td>2</td>\n",
       "      <td>Rural</td>\n",
       "      <td>1980</td>\n",
       "      <td>195014.221626</td>\n",
       "    </tr>\n",
       "    <tr>\n",
       "      <th>2</th>\n",
       "      <td>1860</td>\n",
       "      <td>2</td>\n",
       "      <td>1</td>\n",
       "      <td>Suburb</td>\n",
       "      <td>1970</td>\n",
       "      <td>306891.012076</td>\n",
       "    </tr>\n",
       "    <tr>\n",
       "      <th>3</th>\n",
       "      <td>2294</td>\n",
       "      <td>2</td>\n",
       "      <td>1</td>\n",
       "      <td>Urban</td>\n",
       "      <td>1996</td>\n",
       "      <td>206786.787153</td>\n",
       "    </tr>\n",
       "    <tr>\n",
       "      <th>4</th>\n",
       "      <td>2130</td>\n",
       "      <td>5</td>\n",
       "      <td>2</td>\n",
       "      <td>Suburb</td>\n",
       "      <td>2001</td>\n",
       "      <td>272436.239065</td>\n",
       "    </tr>\n",
       "  </tbody>\n",
       "</table>\n",
       "</div>"
      ],
      "text/plain": [
       "   SquareFeet  Bedrooms  Bathrooms Neighborhood  YearBuilt          Price\n",
       "0        2126         4          1        Rural       1969  215355.283618\n",
       "1        2459         3          2        Rural       1980  195014.221626\n",
       "2        1860         2          1       Suburb       1970  306891.012076\n",
       "3        2294         2          1        Urban       1996  206786.787153\n",
       "4        2130         5          2       Suburb       2001  272436.239065"
      ]
     },
     "execution_count": 196,
     "metadata": {},
     "output_type": "execute_result"
    }
   ],
   "source": [
    "# the data set for the model\n",
    "df = pd.read_csv('housing_price_dataset.csv')\n",
    "df.head()"
   ]
  },
  {
   "cell_type": "code",
   "execution_count": 197,
   "id": "682819e8-70d4-43e4-b4f2-ecf95eed709c",
   "metadata": {
    "editable": true,
    "slideshow": {
     "slide_type": ""
    },
    "tags": []
   },
   "outputs": [
    {
     "data": {
      "text/plain": [
       "SquareFeet      50000\n",
       "Bedrooms        50000\n",
       "Bathrooms       50000\n",
       "Neighborhood    50000\n",
       "YearBuilt       50000\n",
       "Price           50000\n",
       "dtype: int64"
      ]
     },
     "execution_count": 197,
     "metadata": {},
     "output_type": "execute_result"
    }
   ],
   "source": [
    "df.count()"
   ]
  },
  {
   "cell_type": "code",
   "execution_count": 198,
   "id": "e84cf05e-14d0-4987-8dc7-5446514232c5",
   "metadata": {},
   "outputs": [
    {
     "data": {
      "text/plain": [
       "SquareFeet      0\n",
       "Bedrooms        0\n",
       "Bathrooms       0\n",
       "Neighborhood    0\n",
       "YearBuilt       0\n",
       "Price           0\n",
       "dtype: int64"
      ]
     },
     "execution_count": 198,
     "metadata": {},
     "output_type": "execute_result"
    }
   ],
   "source": [
    "df.isnull().sum()"
   ]
  },
  {
   "cell_type": "code",
   "execution_count": 199,
   "id": "25c5df70-da9f-4803-85b9-2b3cd714e86a",
   "metadata": {
    "scrolled": true
   },
   "outputs": [
    {
     "data": {
      "text/plain": [
       "SquareFeet        int64\n",
       "Bedrooms          int64\n",
       "Bathrooms         int64\n",
       "Neighborhood     object\n",
       "YearBuilt         int64\n",
       "Price           float64\n",
       "dtype: object"
      ]
     },
     "execution_count": 199,
     "metadata": {},
     "output_type": "execute_result"
    }
   ],
   "source": [
    "df.dtypes"
   ]
  },
  {
   "cell_type": "code",
   "execution_count": 201,
   "id": "0a2565a6-2398-418d-970b-031da143e07b",
   "metadata": {
    "editable": true,
    "scrolled": true,
    "slideshow": {
     "slide_type": ""
    },
    "tags": []
   },
   "outputs": [
    {
     "data": {
      "text/plain": [
       "Neighborhood\n",
       "Rural     224096.126040\n",
       "Suburb    223234.189857\n",
       "Urban     227166.197139\n",
       "Name: Price, dtype: float64"
      ]
     },
     "execution_count": 201,
     "metadata": {},
     "output_type": "execute_result"
    }
   ],
   "source": [
    "df.groupby('Neighborhood')['Price'].mean()"
   ]
  },
  {
   "cell_type": "code",
   "execution_count": 220,
   "id": "47f82368-4db2-4dde-ba1f-1c94fd5b99bc",
   "metadata": {},
   "outputs": [
    {
     "data": {
      "text/plain": [
       "224827.32515099045"
      ]
     },
     "execution_count": 220,
     "metadata": {},
     "output_type": "execute_result"
    }
   ],
   "source": [
    "df['Price'].mean()"
   ]
  },
  {
   "cell_type": "code",
   "execution_count": 200,
   "id": "f66b01bf-0d57-4347-9898-9862ebadeb66",
   "metadata": {},
   "outputs": [],
   "source": [
    "# Add column of is_urban and make the value of urban equal to 1 and suburb and rural equal to 0\n",
    "df['is_urban'] = df['Neighborhood'].map({\n",
    "    'Urban': 1,\n",
    "    'Suburb': 0,\n",
    "    'Rural': 0})\n"
   ]
  },
  {
   "cell_type": "code",
   "execution_count": 202,
   "id": "8905252b-a8b7-4b5f-bb7f-a4785c108de9",
   "metadata": {
    "editable": true,
    "slideshow": {
     "slide_type": ""
    },
    "tags": []
   },
   "outputs": [
    {
     "data": {
      "text/plain": [
       "SquareFeet        int64\n",
       "Bedrooms          int64\n",
       "Bathrooms         int64\n",
       "Neighborhood     object\n",
       "YearBuilt         int64\n",
       "Price           float64\n",
       "is_urban          int64\n",
       "dtype: object"
      ]
     },
     "execution_count": 202,
     "metadata": {},
     "output_type": "execute_result"
    }
   ],
   "source": [
    "df.dtypes"
   ]
  },
  {
   "cell_type": "code",
   "execution_count": 203,
   "id": "20a347ca-e2b2-4141-8fb9-495514e8a4c5",
   "metadata": {},
   "outputs": [
    {
     "data": {
      "text/html": [
       "<div>\n",
       "<style scoped>\n",
       "    .dataframe tbody tr th:only-of-type {\n",
       "        vertical-align: middle;\n",
       "    }\n",
       "\n",
       "    .dataframe tbody tr th {\n",
       "        vertical-align: top;\n",
       "    }\n",
       "\n",
       "    .dataframe thead th {\n",
       "        text-align: right;\n",
       "    }\n",
       "</style>\n",
       "<table border=\"1\" class=\"dataframe\">\n",
       "  <thead>\n",
       "    <tr style=\"text-align: right;\">\n",
       "      <th></th>\n",
       "      <th>SquareFeet</th>\n",
       "      <th>Bedrooms</th>\n",
       "      <th>Bathrooms</th>\n",
       "      <th>Neighborhood</th>\n",
       "      <th>YearBuilt</th>\n",
       "      <th>Price</th>\n",
       "      <th>is_urban</th>\n",
       "    </tr>\n",
       "  </thead>\n",
       "  <tbody>\n",
       "    <tr>\n",
       "      <th>0</th>\n",
       "      <td>2126</td>\n",
       "      <td>4</td>\n",
       "      <td>1</td>\n",
       "      <td>Rural</td>\n",
       "      <td>1969</td>\n",
       "      <td>215355.283618</td>\n",
       "      <td>0</td>\n",
       "    </tr>\n",
       "    <tr>\n",
       "      <th>1</th>\n",
       "      <td>2459</td>\n",
       "      <td>3</td>\n",
       "      <td>2</td>\n",
       "      <td>Rural</td>\n",
       "      <td>1980</td>\n",
       "      <td>195014.221626</td>\n",
       "      <td>0</td>\n",
       "    </tr>\n",
       "    <tr>\n",
       "      <th>2</th>\n",
       "      <td>1860</td>\n",
       "      <td>2</td>\n",
       "      <td>1</td>\n",
       "      <td>Suburb</td>\n",
       "      <td>1970</td>\n",
       "      <td>306891.012076</td>\n",
       "      <td>0</td>\n",
       "    </tr>\n",
       "    <tr>\n",
       "      <th>3</th>\n",
       "      <td>2294</td>\n",
       "      <td>2</td>\n",
       "      <td>1</td>\n",
       "      <td>Urban</td>\n",
       "      <td>1996</td>\n",
       "      <td>206786.787153</td>\n",
       "      <td>1</td>\n",
       "    </tr>\n",
       "    <tr>\n",
       "      <th>4</th>\n",
       "      <td>2130</td>\n",
       "      <td>5</td>\n",
       "      <td>2</td>\n",
       "      <td>Suburb</td>\n",
       "      <td>2001</td>\n",
       "      <td>272436.239065</td>\n",
       "      <td>0</td>\n",
       "    </tr>\n",
       "  </tbody>\n",
       "</table>\n",
       "</div>"
      ],
      "text/plain": [
       "   SquareFeet  Bedrooms  Bathrooms Neighborhood  YearBuilt          Price  \\\n",
       "0        2126         4          1        Rural       1969  215355.283618   \n",
       "1        2459         3          2        Rural       1980  195014.221626   \n",
       "2        1860         2          1       Suburb       1970  306891.012076   \n",
       "3        2294         2          1        Urban       1996  206786.787153   \n",
       "4        2130         5          2       Suburb       2001  272436.239065   \n",
       "\n",
       "   is_urban  \n",
       "0         0  \n",
       "1         0  \n",
       "2         0  \n",
       "3         1  \n",
       "4         0  "
      ]
     },
     "execution_count": 203,
     "metadata": {},
     "output_type": "execute_result"
    }
   ],
   "source": [
    "df.head()"
   ]
  },
  {
   "cell_type": "code",
   "execution_count": 204,
   "id": "3f7df7a9-7254-497c-b554-9f1fabe90cf7",
   "metadata": {
    "editable": true,
    "scrolled": true,
    "slideshow": {
     "slide_type": ""
    },
    "tags": []
   },
   "outputs": [
    {
     "name": "stdout",
     "output_type": "stream",
     "text": [
      "Index(['SquareFeet', 'Bedrooms', 'Bathrooms', 'Neighborhood', 'YearBuilt',\n",
      "       'Price', 'is_urban'],\n",
      "      dtype='object')\n"
     ]
    }
   ],
   "source": [
    "print(df.columns)"
   ]
  },
  {
   "cell_type": "code",
   "execution_count": 206,
   "id": "c06f8a46-0125-4cb2-8709-c73717989ef2",
   "metadata": {
    "editable": true,
    "slideshow": {
     "slide_type": ""
    },
    "tags": []
   },
   "outputs": [],
   "source": [
    "x = df[['SquareFeet', 'Bedrooms', 'Bathrooms', 'YearBuilt', 'is_urban']]\n",
    "y = df['Price']"
   ]
  },
  {
   "cell_type": "code",
   "execution_count": 207,
   "id": "b033ce17-c42a-4741-8c80-cb23efd985c0",
   "metadata": {
    "editable": true,
    "slideshow": {
     "slide_type": ""
    },
    "tags": []
   },
   "outputs": [],
   "source": [
    "import sklearn\n",
    "from sklearn.model_selection import train_test_split\n",
    "from sklearn.linear_model import LinearRegression"
   ]
  },
  {
   "cell_type": "code",
   "execution_count": 208,
   "id": "d00febda-536f-41f2-9f8f-6d072c2785ef",
   "metadata": {
    "editable": true,
    "slideshow": {
     "slide_type": ""
    },
    "tags": []
   },
   "outputs": [],
   "source": [
    "X_train, X_test, y_train, y_test = train_test_split(x, y, test_size=0.3, random_state=42)"
   ]
  },
  {
   "cell_type": "code",
   "execution_count": 209,
   "id": "48a25a30-de02-47cc-9ea7-8fbd778ebe0c",
   "metadata": {},
   "outputs": [
    {
     "data": {
      "text/plain": [
       "38094    136609.468801\n",
       "40624    185326.815719\n",
       "49425    173386.041546\n",
       "35734    165809.288253\n",
       "41708    154269.659133\n",
       "             ...      \n",
       "11284    324396.846219\n",
       "44732    319266.944411\n",
       "38158    248092.662727\n",
       "860      132414.177622\n",
       "15795    288751.049986\n",
       "Name: Price, Length: 35000, dtype: float64"
      ]
     },
     "execution_count": 209,
     "metadata": {},
     "output_type": "execute_result"
    }
   ],
   "source": [
    "y_train"
   ]
  },
  {
   "cell_type": "code",
   "execution_count": 210,
   "id": "8429aaab-6f98-45fa-92a5-6889be1f2f2e",
   "metadata": {
    "editable": true,
    "scrolled": true,
    "slideshow": {
     "slide_type": ""
    },
    "tags": []
   },
   "outputs": [
    {
     "data": {
      "text/html": [
       "<style>#sk-container-id-5 {color: black;}#sk-container-id-5 pre{padding: 0;}#sk-container-id-5 div.sk-toggleable {background-color: white;}#sk-container-id-5 label.sk-toggleable__label {cursor: pointer;display: block;width: 100%;margin-bottom: 0;padding: 0.3em;box-sizing: border-box;text-align: center;}#sk-container-id-5 label.sk-toggleable__label-arrow:before {content: \"▸\";float: left;margin-right: 0.25em;color: #696969;}#sk-container-id-5 label.sk-toggleable__label-arrow:hover:before {color: black;}#sk-container-id-5 div.sk-estimator:hover label.sk-toggleable__label-arrow:before {color: black;}#sk-container-id-5 div.sk-toggleable__content {max-height: 0;max-width: 0;overflow: hidden;text-align: left;background-color: #f0f8ff;}#sk-container-id-5 div.sk-toggleable__content pre {margin: 0.2em;color: black;border-radius: 0.25em;background-color: #f0f8ff;}#sk-container-id-5 input.sk-toggleable__control:checked~div.sk-toggleable__content {max-height: 200px;max-width: 100%;overflow: auto;}#sk-container-id-5 input.sk-toggleable__control:checked~label.sk-toggleable__label-arrow:before {content: \"▾\";}#sk-container-id-5 div.sk-estimator input.sk-toggleable__control:checked~label.sk-toggleable__label {background-color: #d4ebff;}#sk-container-id-5 div.sk-label input.sk-toggleable__control:checked~label.sk-toggleable__label {background-color: #d4ebff;}#sk-container-id-5 input.sk-hidden--visually {border: 0;clip: rect(1px 1px 1px 1px);clip: rect(1px, 1px, 1px, 1px);height: 1px;margin: -1px;overflow: hidden;padding: 0;position: absolute;width: 1px;}#sk-container-id-5 div.sk-estimator {font-family: monospace;background-color: #f0f8ff;border: 1px dotted black;border-radius: 0.25em;box-sizing: border-box;margin-bottom: 0.5em;}#sk-container-id-5 div.sk-estimator:hover {background-color: #d4ebff;}#sk-container-id-5 div.sk-parallel-item::after {content: \"\";width: 100%;border-bottom: 1px solid gray;flex-grow: 1;}#sk-container-id-5 div.sk-label:hover label.sk-toggleable__label {background-color: #d4ebff;}#sk-container-id-5 div.sk-serial::before {content: \"\";position: absolute;border-left: 1px solid gray;box-sizing: border-box;top: 0;bottom: 0;left: 50%;z-index: 0;}#sk-container-id-5 div.sk-serial {display: flex;flex-direction: column;align-items: center;background-color: white;padding-right: 0.2em;padding-left: 0.2em;position: relative;}#sk-container-id-5 div.sk-item {position: relative;z-index: 1;}#sk-container-id-5 div.sk-parallel {display: flex;align-items: stretch;justify-content: center;background-color: white;position: relative;}#sk-container-id-5 div.sk-item::before, #sk-container-id-5 div.sk-parallel-item::before {content: \"\";position: absolute;border-left: 1px solid gray;box-sizing: border-box;top: 0;bottom: 0;left: 50%;z-index: -1;}#sk-container-id-5 div.sk-parallel-item {display: flex;flex-direction: column;z-index: 1;position: relative;background-color: white;}#sk-container-id-5 div.sk-parallel-item:first-child::after {align-self: flex-end;width: 50%;}#sk-container-id-5 div.sk-parallel-item:last-child::after {align-self: flex-start;width: 50%;}#sk-container-id-5 div.sk-parallel-item:only-child::after {width: 0;}#sk-container-id-5 div.sk-dashed-wrapped {border: 1px dashed gray;margin: 0 0.4em 0.5em 0.4em;box-sizing: border-box;padding-bottom: 0.4em;background-color: white;}#sk-container-id-5 div.sk-label label {font-family: monospace;font-weight: bold;display: inline-block;line-height: 1.2em;}#sk-container-id-5 div.sk-label-container {text-align: center;}#sk-container-id-5 div.sk-container {/* jupyter's `normalize.less` sets `[hidden] { display: none; }` but bootstrap.min.css set `[hidden] { display: none !important; }` so we also need the `!important` here to be able to override the default hidden behavior on the sphinx rendered scikit-learn.org. See: https://github.com/scikit-learn/scikit-learn/issues/21755 */display: inline-block !important;position: relative;}#sk-container-id-5 div.sk-text-repr-fallback {display: none;}</style><div id=\"sk-container-id-5\" class=\"sk-top-container\"><div class=\"sk-text-repr-fallback\"><pre>LinearRegression()</pre><b>In a Jupyter environment, please rerun this cell to show the HTML representation or trust the notebook. <br />On GitHub, the HTML representation is unable to render, please try loading this page with nbviewer.org.</b></div><div class=\"sk-container\" hidden><div class=\"sk-item\"><div class=\"sk-estimator sk-toggleable\"><input class=\"sk-toggleable__control sk-hidden--visually\" id=\"sk-estimator-id-5\" type=\"checkbox\" checked><label for=\"sk-estimator-id-5\" class=\"sk-toggleable__label sk-toggleable__label-arrow\">LinearRegression</label><div class=\"sk-toggleable__content\"><pre>LinearRegression()</pre></div></div></div></div></div>"
      ],
      "text/plain": [
       "LinearRegression()"
      ]
     },
     "execution_count": 210,
     "metadata": {},
     "output_type": "execute_result"
    }
   ],
   "source": [
    "model = LinearRegression()\n",
    "model.fit(X_train ,y_train)"
   ]
  },
  {
   "cell_type": "code",
   "execution_count": 222,
   "id": "470685be-1431-43bd-988c-6e1404236cad",
   "metadata": {},
   "outputs": [
    {
     "data": {
      "text/plain": [
       "Index(['SquareFeet', 'Bedrooms', 'Bathrooms', 'Neighborhood', 'YearBuilt',\n",
       "       'Price', 'is_urban'],\n",
       "      dtype='object')"
      ]
     },
     "execution_count": 222,
     "metadata": {},
     "output_type": "execute_result"
    }
   ],
   "source": [
    "df.columns"
   ]
  },
  {
   "cell_type": "code",
   "execution_count": 211,
   "id": "f74f25d1-4045-435a-ac66-51e7558c62bf",
   "metadata": {
    "scrolled": true
   },
   "outputs": [
    {
     "data": {
      "text/plain": [
       "array([ 9.94335679e+01,  5.28573455e+03,  3.01905308e+03, -9.62636295e-01,\n",
       "        1.75199905e+03])"
      ]
     },
     "execution_count": 211,
     "metadata": {},
     "output_type": "execute_result"
    }
   ],
   "source": [
    "model.coef_"
   ]
  },
  {
   "cell_type": "code",
   "execution_count": 224,
   "id": "604f04d0-55d3-4486-8a96-58c14923ea2c",
   "metadata": {},
   "outputs": [
    {
     "data": {
      "text/plain": [
       "2061.800550501095"
      ]
     },
     "execution_count": 224,
     "metadata": {},
     "output_type": "execute_result"
    }
   ],
   "source": [
    "model.intercept_"
   ]
  },
  {
   "cell_type": "code",
   "execution_count": 232,
   "id": "8982beaf-2bfa-4085-8a4a-83f4f99db66f",
   "metadata": {
    "editable": true,
    "scrolled": true,
    "slideshow": {
     "slide_type": ""
    },
    "tags": []
   },
   "outputs": [
    {
     "name": "stdout",
     "output_type": "stream",
     "text": [
      "       Start Value\n",
      "Price  2061.800551\n",
      "                   Coef\n",
      "SquareFeet    99.433568\n",
      "Bedrooms    5285.734549\n",
      "Bathrooms   3019.053083\n",
      "YearBuilt     -0.962636\n",
      "is_urban    1751.999050\n"
     ]
    }
   ],
   "source": [
    "# Print Start value and Coefficients of my Regression Model\n",
    "coef = pd.DataFrame(model.coef_, x.columns, columns=['Coef'])\n",
    "inter = pd.DataFrame(model.intercept_, index=[y.name], columns=['Start Value'])\n",
    "print(inter)\n",
    "print(coef)"
   ]
  },
  {
   "cell_type": "code",
   "execution_count": 213,
   "id": "14f95797-4180-4c2a-9e0f-7fd5b3ba0bf5",
   "metadata": {
    "editable": true,
    "slideshow": {
     "slide_type": ""
    },
    "tags": []
   },
   "outputs": [
    {
     "data": {
      "text/plain": [
       "array([217935.49734708, 135190.97899164, 255488.87809567, ...,\n",
       "       314301.30559006, 163123.45801563, 234527.22348178])"
      ]
     },
     "execution_count": 213,
     "metadata": {},
     "output_type": "execute_result"
    }
   ],
   "source": [
    "predict = model.predict(X_test)\n",
    "predict"
   ]
  },
  {
   "cell_type": "code",
   "execution_count": 214,
   "id": "35c4917c-eda6-4d25-9afb-2e79c1dffd4e",
   "metadata": {
    "editable": true,
    "scrolled": true,
    "slideshow": {
     "slide_type": ""
    },
    "tags": []
   },
   "outputs": [
    {
     "name": "stdout",
     "output_type": "stream",
     "text": [
      "Mean Absolute Error:  39738.237209923696\n",
      "Mean Squared Error:  2468143223.2368965\n",
      "Root of Mean Squared Error:  49680.41086018609\n"
     ]
    }
   ],
   "source": [
    "import math\n",
    "from sklearn.metrics import mean_absolute_error\n",
    "from sklearn.metrics import mean_squared_error\n",
    "print(\"Mean Absolute Error: \", mean_absolute_error(y_test, predict))\n",
    "print(\"Mean Squared Error: \", mean_squared_error(y_test, predict))\n",
    "print(\"Root of Mean Squared Error: \", math.sqrt(mean_squared_error(y_test, predict)))"
   ]
  },
  {
   "cell_type": "code",
   "execution_count": 215,
   "id": "e500c22e-a42b-43d8-8681-c6c1e325e50f",
   "metadata": {
    "editable": true,
    "slideshow": {
     "slide_type": ""
    },
    "tags": []
   },
   "outputs": [
    {
     "data": {
      "text/plain": [
       "33553   -47100.461634\n",
       "9427     -8277.508994\n",
       "199      -8876.995004\n",
       "12447   -13932.526117\n",
       "39489    -6244.957778\n",
       "             ...     \n",
       "15168   -50185.091836\n",
       "49241    42849.917124\n",
       "39317    42799.318051\n",
       "42191    66521.445743\n",
       "15109    -8588.854889\n",
       "Name: Price, Length: 15000, dtype: float64"
      ]
     },
     "execution_count": 215,
     "metadata": {},
     "output_type": "execute_result"
    }
   ],
   "source": [
    "residuals = y_test - predict\n",
    "residuals"
   ]
  },
  {
   "cell_type": "code",
   "execution_count": 216,
   "id": "74af4436-e6d2-4507-9c29-d80775a60200",
   "metadata": {
    "editable": true,
    "slideshow": {
     "slide_type": ""
    },
    "tags": []
   },
   "outputs": [
    {
     "data": {
      "text/plain": [
       "((array([-3.90968256, -3.68991627, -3.56950385, ...,  3.56950385,\n",
       "          3.68991627,  3.90968256]),\n",
       "  array([-177667.99086415, -170272.14466983, -164770.92069681, ...,\n",
       "          175221.95413716,  181272.97185332,  186305.74197723])),\n",
       " (49686.18036948232, 255.02251255951805, 0.999881323965707))"
      ]
     },
     "execution_count": 216,
     "metadata": {},
     "output_type": "execute_result"
    },
    {
     "data": {
      "image/png": "[encoded data removed]",
      "text/plain": [
       "<Figure size 640x480 with 1 Axes>"
      ]
     },
     "metadata": {},
     "output_type": "display_data"
    }
   ],
   "source": [
    "import pylab\n",
    "import scipy.stats as stats\n",
    "stats.probplot(residuals, dist='norm', plot=pylab)"
   ]
  },
  {
   "cell_type": "code",
   "execution_count": 217,
   "id": "a722ef6c-59e6-4121-af6b-96c089377feb",
   "metadata": {
    "editable": true,
    "slideshow": {
     "slide_type": ""
    },
    "tags": []
   },
   "outputs": [
    {
     "name": "stderr",
     "output_type": "stream",
     "text": [
      "/opt/conda/envs/anaconda-2024.02-py310/lib/python3.10/site-packages/seaborn/_oldcore.py:1119: FutureWarning: use_inf_as_na option is deprecated and will be removed in a future version. Convert inf values to NaN before operating instead.\n",
      "  with pd.option_context('mode.use_inf_as_na', True):\n"
     ]
    },
    {
     "data": {
      "image/png": "[encoded data removed]",
      "text/plain": [
       "<Figure size 2000x1000 with 1 Axes>"
      ]
     },
     "metadata": {},
     "output_type": "display_data"
    }
   ],
   "source": [
    "g = sns.displot(residuals, bins=20, kde=True)\n",
    "g.fig.set_size_inches(20,10)\n",
    "plt.show()"
   ]
  },
  {
   "cell_type": "code",
   "execution_count": null,
   "id": "aac4900a-cecf-4491-9e47-03a809a6ebc2",
   "metadata": {},
   "outputs": [],
   "source": []
  }
 ],
 "metadata": {
  "kernelspec": {
   "display_name": "anaconda-2024.02-py310",
   "language": "python",
   "name": "conda-env-anaconda-2024.02-py310-py"
  },
  "language_info": {
   "codemirror_mode": {
    "name": "ipython",
    "version": 3
   },
   "file_extension": ".py",
   "mimetype": "text/x-python",
   "name": "python",
   "nbconvert_exporter": "python",
   "pygments_lexer": "ipython3",
   "version": "3.10.14"
  }
 },
 "nbformat": 4,
 "nbformat_minor": 5
}
